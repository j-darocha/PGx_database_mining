{
 "cells": [
  {
   "cell_type": "code",
   "execution_count": 7,
   "metadata": {},
   "outputs": [
    {
     "data": {
      "text/plain": [
       "Index(['Study Parameters ID', 'Study Type', 'Study Cases', 'Study Controls',\n",
       "       'Characteristics', 'Characteristics Type', 'Frequency In Cases',\n",
       "       'Allele Of Frequency In Cases', 'Frequency In Controls',\n",
       "       'Allele Of Frequency In Controls', 'P Value Operator', 'P Value',\n",
       "       'Ratio Stat Type', 'Ratio Stat', 'Confidence Interval Start',\n",
       "       'Confidence Interval Stop', 'Biogeographical Groups'],\n",
       "      dtype='object')"
      ]
     },
     "execution_count": 7,
     "metadata": {},
     "output_type": "execute_result"
    }
   ],
   "source": [
    "import pandas as pd\n",
    "\n",
    "sparams = pd.read_csv(\"Feb2021/annotations_Feb2021/study_parameters.tsv\", sep ='\\t')\n",
    "\n",
    "sparams.columns"
   ]
  },
  {
   "cell_type": "code",
   "execution_count": 16,
   "metadata": {},
   "outputs": [
    {
     "name": "stderr",
     "output_type": "stream",
     "text": [
      "/home/jorge/anaconda3/lib/python3.7/site-packages/ipykernel_launcher.py:3: FutureWarning: The signature of `Series.to_csv` was aligned to that of `DataFrame.to_csv`, and argument 'header' will change its default value from False to True: please pass an explicit value to suppress this warning.\n",
      "  This is separate from the ipykernel package so we can avoid doing imports until\n"
     ]
    }
   ],
   "source": [
    "pgkb_counts = sparams[\"Biogeographical Groups\"].value_counts()\n",
    "\n",
    "pgkb_counts.to_csv(\"pgkb_counts_feb2021.txt\", index = True)"
   ]
  },
  {
   "cell_type": "code",
   "execution_count": 13,
   "metadata": {},
   "outputs": [
    {
     "data": {
      "text/plain": [
       "Index(['STUDY ACCESSION', 'PUBMEDID', 'FIRST AUTHOR', 'DATE',\n",
       "       'INITIAL SAMPLE DESCRIPTION', 'REPLICATION SAMPLE DESCRIPTION', 'STAGE',\n",
       "       'NUMBER OF INDIVDUALS', 'BROAD ANCESTRAL CATEGORY', 'COUNTRY OF ORIGIN',\n",
       "       'COUNTRY OF RECRUITMENT', 'ADDITONAL ANCESTRY DESCRIPTION'],\n",
       "      dtype='object')"
      ]
     },
     "execution_count": 13,
     "metadata": {},
     "output_type": "execute_result"
    }
   ],
   "source": [
    "gwascatancs = pd.read_csv(\"Feb2021/annotations_Feb2021/gwas_catalog-ancestry_r2021-02-10.tsv\", sep ='\\t')\n",
    "\n",
    "gwascatancs.columns"
   ]
  },
  {
   "cell_type": "code",
   "execution_count": 17,
   "metadata": {},
   "outputs": [
    {
     "name": "stderr",
     "output_type": "stream",
     "text": [
      "/home/jorge/anaconda3/lib/python3.7/site-packages/ipykernel_launcher.py:3: FutureWarning: The signature of `Series.to_csv` was aligned to that of `DataFrame.to_csv`, and argument 'header' will change its default value from False to True: please pass an explicit value to suppress this warning.\n",
      "  This is separate from the ipykernel package so we can avoid doing imports until\n"
     ]
    }
   ],
   "source": [
    "gwas_counts = gwascatancs[\"BROAD ANCESTRAL CATEGORY\"].value_counts()\n",
    "\n",
    "gwas_counts.to_csv(\"gwas_counts_feb2021.txt\", index = True)"
   ]
  },
  {
   "cell_type": "code",
   "execution_count": null,
   "metadata": {},
   "outputs": [],
   "source": []
  }
 ],
 "metadata": {
  "kernelspec": {
   "display_name": "Python 3",
   "language": "python",
   "name": "python3"
  },
  "language_info": {
   "codemirror_mode": {
    "name": "ipython",
    "version": 3
   },
   "file_extension": ".py",
   "mimetype": "text/x-python",
   "name": "python",
   "nbconvert_exporter": "python",
   "pygments_lexer": "ipython3",
   "version": "3.7.3"
  }
 },
 "nbformat": 4,
 "nbformat_minor": 2
}
