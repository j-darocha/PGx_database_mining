{
 "cells": [
  {
   "cell_type": "code",
   "execution_count": 15,
   "metadata": {},
   "outputs": [
    {
     "data": {
      "text/plain": [
       "Index(['ID_diseases', 'disease_name'], dtype='object')"
      ]
     },
     "execution_count": 15,
     "metadata": {},
     "output_type": "execute_result"
    }
   ],
   "source": [
    "import pandas as pd\n",
    "\n",
    "base = pd.read_csv(\"snps_PGKB_DisGenet (1).csv\", sep = \",\")\n",
    "#base[\"association_with\"].to_csv(\"assoc_wit_col.txt\", sep = \",\", index = False)\n",
    "\n",
    "disease_csv = pd.read_csv(\"disease_listnew.csv\", sep = \",\", quotechar='\"', skipinitialspace=True)\n",
    "\n",
    "disease_csv\n",
    "\n",
    "base.columns\n",
    "disease_csv.columns"
   ]
  },
  {
   "cell_type": "code",
   "execution_count": 18,
   "metadata": {},
   "outputs": [],
   "source": [
    "with_discol = base.merge(disease_csv, left_on = \"association_with\", right_on = \"disease_name\", how = \"left\")\n"
   ]
  },
  {
   "cell_type": "code",
   "execution_count": 25,
   "metadata": {},
   "outputs": [],
   "source": [
    "with_discol.columns\n",
    "\n",
    "new_order = ['id', 'rs_id', 'gene_id', 'drug_id','ID_diseases', 'allele', 'association_with',\n",
    "       'reference_id', 'P-value', 'source', 'id_in_source', 'region',\n",
    "       'Country_of_Participants']\n",
    "new_order\n",
    "\n",
    "new_SNPs_file = with_discol[new_order]\n",
    "\n",
    "new_SNPs_file.to_csv(\"snps_PGKB_Disgenet_wDIS.csv\", sep = \",\", index = False)\n",
    "disease_csv.to_csv(\"diseases.csv\", sep = \",\", index = False)\n"
   ]
  },
  {
   "cell_type": "code",
   "execution_count": 26,
   "metadata": {},
   "outputs": [
    {
     "data": {
      "text/plain": [
       "Index(['id', 'rs_id', 'gene_id', 'drug_id', 'allele', 'association_with',\n",
       "       'reference_id', 'P-value', 'source', 'id_in_source', 'region',\n",
       "       'Country_of_Participants'],\n",
       "      dtype='object')"
      ]
     },
     "execution_count": 26,
     "metadata": {},
     "output_type": "execute_result"
    }
   ],
   "source": []
  },
  {
   "cell_type": "code",
   "execution_count": null,
   "metadata": {},
   "outputs": [],
   "source": []
  }
 ],
 "metadata": {
  "kernelspec": {
   "display_name": "Python 3",
   "language": "python",
   "name": "python3"
  },
  "language_info": {
   "codemirror_mode": {
    "name": "ipython",
    "version": 3
   },
   "file_extension": ".py",
   "mimetype": "text/x-python",
   "name": "python",
   "nbconvert_exporter": "python",
   "pygments_lexer": "ipython3",
   "version": "3.7.3"
  }
 },
 "nbformat": 4,
 "nbformat_minor": 2
}
